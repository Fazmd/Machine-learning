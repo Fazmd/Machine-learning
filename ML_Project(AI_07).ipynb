{
  "nbformat": 4,
  "nbformat_minor": 0,
  "metadata": {
    "colab": {
      "provenance": []
    },
    "kernelspec": {
      "name": "python3",
      "display_name": "Python 3"
    },
    "language_info": {
      "name": "python"
    }
  },
  "cells": [
    {
      "cell_type": "code",
      "execution_count": 1,
      "metadata": {
        "colab": {
          "base_uri": "https://localhost:8080/"
        },
        "id": "9S9QEYT-LvKa",
        "outputId": "16f103e7-792b-4371-db66-900e833bbe35"
      },
      "outputs": [
        {
          "output_type": "stream",
          "name": "stdout",
          "text": [
            "Logistic Regression Accuracy: 86.0 %\n",
            "Random Forest Accuracy: 90.0 %\n",
            "✅ Random Forest performs better.\n",
            "\n",
            "Classification Report (Logistic Regression):\n",
            "              precision    recall  f1-score   support\n",
            "\n",
            "           0       0.84      0.97      0.90        63\n",
            "           1       0.93      0.68      0.78        37\n",
            "\n",
            "    accuracy                           0.86       100\n",
            "   macro avg       0.88      0.82      0.84       100\n",
            "weighted avg       0.87      0.86      0.85       100\n",
            "\n",
            "\n",
            "Classification Report (Random Forest):\n",
            "              precision    recall  f1-score   support\n",
            "\n",
            "           0       0.95      0.89      0.92        63\n",
            "           1       0.83      0.92      0.87        37\n",
            "\n",
            "    accuracy                           0.90       100\n",
            "   macro avg       0.89      0.90      0.89       100\n",
            "weighted avg       0.90      0.90      0.90       100\n",
            "\n"
          ]
        }
      ],
      "source": [
        "import pandas as pd\n",
        "from sklearn.model_selection import train_test_split\n",
        "from sklearn.preprocessing import StandardScaler\n",
        "from sklearn.linear_model import LogisticRegression\n",
        "from sklearn.ensemble import RandomForestClassifier\n",
        "from sklearn.metrics import accuracy_score, classification_report\n",
        "\n",
        "# Load dataset\n",
        "df = pd.read_csv('/Social_Network_Ads (1).csv')\n",
        "\n",
        "# Feature selection (assuming columns: User ID, Gender, Age, EstimatedSalary, Purchased)\n",
        "X = df[['Age', 'EstimatedSalary']]\n",
        "y = df['Purchased']\n",
        "\n",
        "# Split into train and test sets\n",
        "X_train, X_test, y_train, y_test = train_test_split(X, y, test_size=0.25, random_state=42)\n",
        "\n",
        "# Feature Scaling\n",
        "scaler = StandardScaler()\n",
        "X_train_scaled = scaler.fit_transform(X_train)\n",
        "X_test_scaled = scaler.transform(X_test)\n",
        "\n",
        "# Logistic Regression\n",
        "log_model = LogisticRegression()\n",
        "log_model.fit(X_train_scaled, y_train)\n",
        "y_pred_log = log_model.predict(X_test_scaled)\n",
        "acc_log = accuracy_score(y_test, y_pred_log)\n",
        "\n",
        "# Random Forest Classifier\n",
        "rf_model = RandomForestClassifier(n_estimators=100, random_state=42)\n",
        "rf_model.fit(X_train, y_train)\n",
        "y_pred_rf = rf_model.predict(X_test)\n",
        "acc_rf = accuracy_score(y_test, y_pred_rf)\n",
        "\n",
        "# Results\n",
        "print(\"Logistic Regression Accuracy:\", round(acc_log * 100, 2), \"%\")\n",
        "print(\"Random Forest Accuracy:\", round(acc_rf * 100, 2), \"%\")\n",
        "\n",
        "if acc_log > acc_rf:\n",
        "    print(\"✅ Logistic Regression performs better.\")\n",
        "elif acc_rf > acc_log:\n",
        "    print(\"✅ Random Forest performs better.\")\n",
        "else:\n",
        "    print(\"🤝 Both models perform equally well.\")\n",
        "\n",
        "# Optional: print detailed performance\n",
        "print(\"\\nClassification Report (Logistic Regression):\")\n",
        "print(classification_report(y_test, y_pred_log))\n",
        "\n",
        "print(\"\\nClassification Report (Random Forest):\")\n",
        "print(classification_report(y_test, y_pred_rf))\n"
      ]
    },
    {
      "cell_type": "code",
      "source": [],
      "metadata": {
        "id": "4RspAwMUaqWr"
      },
      "execution_count": null,
      "outputs": []
    }
  ]
}