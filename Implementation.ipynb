{
  "nbformat": 4,
  "nbformat_minor": 0,
  "metadata": {
    "colab": {
      "provenance": []
    },
    "kernelspec": {
      "name": "python3",
      "display_name": "Python 3"
    },
    "language_info": {
      "name": "python"
    }
  },
  "cells": [
    {
      "cell_type": "code",
      "execution_count": null,
      "metadata": {
        "colab": {
          "base_uri": "https://localhost:8080/"
        },
        "id": "_1NUHZ-Dk6jX",
        "outputId": "142c4a2b-517c-4969-970a-5cf42bfa593b"
      },
      "outputs": [
        {
          "output_type": "stream",
          "name": "stdout",
          "text": [
            "[1]\n"
          ]
        }
      ],
      "source": [
        "from sklearn import tree\n",
        "features = [[140,1],[130,1],[150,1],[170,1]]\n",
        "labels = [0,0,1,1]\n",
        "clf = tree.DecisionTreeClassifier()\n",
        "clf = clf.fit(features,labels)\n",
        "output = clf.predict([[170,1]])\n",
        "print(output)"
      ]
    }
  ]
}