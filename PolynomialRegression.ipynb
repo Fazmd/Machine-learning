{
  "nbformat": 4,
  "nbformat_minor": 0,
  "metadata": {
    "colab": {
      "provenance": []
    },
    "kernelspec": {
      "name": "python3",
      "display_name": "Python 3"
    },
    "language_info": {
      "name": "python"
    }
  },
  "cells": [
    {
      "cell_type": "code",
      "execution_count": null,
      "metadata": {
        "colab": {
          "base_uri": "https://localhost:8080/"
        },
        "id": "uUFxXQGbngT4",
        "outputId": "5cd336c1-da79-4545-a71f-283c087aa2a7"
      },
      "outputs": [
        {
          "output_type": "stream",
          "name": "stdout",
          "text": [
            "Polynomial Regression:\n",
            "Training RMSE: 48.92\n",
            "Testing RMSE: 55.64\n",
            "\n"
          ]
        }
      ],
      "source": [
        "import numpy as np\n",
        "from sklearn.datasets import load_diabetes\n",
        "from sklearn.model_selection import train_test_split\n",
        "from sklearn.linear_model import LinearRegression\n",
        "from sklearn.preprocessing import PolynomialFeatures\n",
        "from sklearn.svm import SVR\n",
        "from sklearn.tree import DecisionTreeRegressor\n",
        "from sklearn.metrics import mean_squared_error\n",
        "\n",
        "#load the diabetes dataset\n",
        "diabetes = load_diabetes()\n",
        "x = diabetes.data\n",
        "y = diabetes.target\n",
        "\n",
        "#split data into training and telling sets\n",
        "x_train, x_test, y_train, y_test = train_test_split(x, y, test_size=0.2, random_state=42)\n",
        "\n",
        "# Polynomial Regression\n",
        "degree = 2\n",
        "poly_features = PolynomialFeatures(degree=degree)\n",
        "x_poly_train = poly_features.fit_transform(x_train)\n",
        "x_poly_test = poly_features.transform(x_test)\n",
        "poly_reg = LinearRegression()\n",
        "poly_reg.fit(x_poly_train, y_train)\n",
        "y_poly_train_pred = poly_reg.predict(x_poly_train)\n",
        "y_poly_test_pred = poly_reg.predict(x_poly_test)\n",
        "poly_train_rmse = np.sqrt(mean_squared_error(y_train, y_poly_train_pred))\n",
        "poly_test_rmse = np.sqrt(mean_squared_error(y_test, y_poly_test_pred))\n",
        "\n",
        "#print RMSE for each model\n",
        "print(\"Polynomial Regression:\")\n",
        "print(f\"Training RMSE: {poly_train_rmse:.2f}\")\n",
        "print(f\"Testing RMSE: {poly_test_rmse:.2f}\\n\")\n"
      ]
    },
    {
      "cell_type": "code",
      "source": [
        "#Support Vector Regression\n",
        "svr = SVR(kernel='rbf')\n",
        "svr.fit(x_train, y_train)\n",
        "y_svr_train_pred = svr.predict(x_train)\n",
        "y_svr_test_pred = svr.predict(x_test)\n",
        "svr_train_rmse = np.sqrt(mean_squared_error(y_train, y_svr_train_pred))\n",
        "svr_test_rmse = np.sqrt(mean_squared_error(y_test, y_svr_test_pred))\n",
        "\n",
        "print(\"Support Vector Regression:\")\n",
        "print(f\"Training RMSE: {svr_train_rmse:.2f}\")\n",
        "print(f\"Testing RMSE: {svr_test_rmse:.2f}\\n\")"
      ],
      "metadata": {
        "colab": {
          "base_uri": "https://localhost:8080/"
        },
        "id": "xmWk02CI13j0",
        "outputId": "6f1cac61-bc13-4f7a-9050-89ca1942ce72"
      },
      "execution_count": null,
      "outputs": [
        {
          "output_type": "stream",
          "name": "stdout",
          "text": [
            "Support Vector Regression:\n",
            "Training RMSE: 71.15\n",
            "Testing RMSE: 65.83\n",
            "\n"
          ]
        }
      ]
    },
    {
      "cell_type": "code",
      "source": [
        "#Descision Tree Regression\n",
        "decision_tree = DecisionTreeRegressor(random_state=42)\n",
        "decision_tree.fit(x_train, y_train)\n",
        "y_dt_train_pred = decision_tree.predict(x_train)\n",
        "y_dt_test_pred = decision_tree.predict(x_test)\n",
        "dt_train_rmse = np.sqrt(mean_squared_error(y_train, y_dt_train_pred))\n",
        "dt_test_rmse = np.sqrt(mean_squared_error(y_test, y_dt_test_pred))\n",
        "\n",
        "print(\"Descision Tree Regression:\")\n",
        "print(f\"Training RMSE: {dt_train_rmse:.2f}\")\n",
        "print(f\"Testing RMSE: {dt_test_rmse:.2f}\\n\")"
      ],
      "metadata": {
        "colab": {
          "base_uri": "https://localhost:8080/"
        },
        "id": "oqhTT3sh6dWF",
        "outputId": "2d9593de-dc97-4557-a2cc-04ec5a98736d"
      },
      "execution_count": null,
      "outputs": [
        {
          "output_type": "stream",
          "name": "stdout",
          "text": [
            "Descision Tree Regression:\n",
            "Training RMSE: 0.00\n",
            "Testing RMSE: 70.55\n",
            "\n"
          ]
        }
      ]
    }
  ]
}